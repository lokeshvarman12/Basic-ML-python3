{
 "cells": [
  {
   "cell_type": "code",
   "execution_count": 1,
   "id": "parliamentary-drain",
   "metadata": {},
   "outputs": [],
   "source": [
    "import numpy\n",
    "from sklearn.metrics import r2_score"
   ]
  },
  {
   "cell_type": "code",
   "execution_count": 2,
   "id": "comfortable-publication",
   "metadata": {},
   "outputs": [],
   "source": [
    "numpy.random.seed(2)"
   ]
  },
  {
   "cell_type": "code",
   "execution_count": 3,
   "id": "liked-jacket",
   "metadata": {},
   "outputs": [],
   "source": [
    "x = numpy.random.normal(3, 1, 100)\n",
    "y = numpy.random.normal(150, 40, 100) / x"
   ]
  },
  {
   "cell_type": "code",
   "execution_count": 4,
   "id": "photographic-integral",
   "metadata": {},
   "outputs": [],
   "source": [
    "train_x = x[:80]\n",
    "train_y = y[:80]\n"
   ]
  },
  {
   "cell_type": "code",
   "execution_count": 5,
   "id": "compliant-tiger",
   "metadata": {},
   "outputs": [],
   "source": [
    "test_x = x[80:]\n",
    "test_y = y[80:]"
   ]
  },
  {
   "cell_type": "code",
   "execution_count": 6,
   "id": "seeing-conversation",
   "metadata": {},
   "outputs": [],
   "source": [
    "mymodel = numpy.poly1d(numpy.polyfit(train_x, train_y, 4))"
   ]
  },
  {
   "cell_type": "code",
   "execution_count": 7,
   "id": "electric-dollar",
   "metadata": {},
   "outputs": [],
   "source": [
    "r2 = r2_score(train_y, mymodel(train_x))"
   ]
  },
  {
   "cell_type": "code",
   "execution_count": 8,
   "id": "electronic-house",
   "metadata": {},
   "outputs": [
    {
     "name": "stdout",
     "output_type": "stream",
     "text": [
      "0.7988645544629795\n"
     ]
    }
   ],
   "source": [
    "print(r2)"
   ]
  },
  {
   "cell_type": "code",
   "execution_count": null,
   "id": "transsexual-asbestos",
   "metadata": {},
   "outputs": [],
   "source": []
  }
 ],
 "metadata": {
  "kernelspec": {
   "display_name": "Python 3",
   "language": "python",
   "name": "python3"
  },
  "language_info": {
   "codemirror_mode": {
    "name": "ipython",
    "version": 3
   },
   "file_extension": ".py",
   "mimetype": "text/x-python",
   "name": "python",
   "nbconvert_exporter": "python",
   "pygments_lexer": "ipython3",
   "version": "3.8.5"
  }
 },
 "nbformat": 4,
 "nbformat_minor": 5
}
